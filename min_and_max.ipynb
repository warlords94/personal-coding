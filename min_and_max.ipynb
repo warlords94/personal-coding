{
  "nbformat": 4,
  "nbformat_minor": 0,
  "metadata": {
    "colab": {
      "name": "min and max.ipynb",
      "provenance": [],
      "authorship_tag": "ABX9TyOQbBLdrFhGLl98W1GJXOuv",
      "include_colab_link": true
    },
    "kernelspec": {
      "name": "python3",
      "display_name": "Python 3"
    },
    "language_info": {
      "name": "python"
    }
  },
  "cells": [
    {
      "cell_type": "markdown",
      "metadata": {
        "id": "view-in-github",
        "colab_type": "text"
      },
      "source": [
        "<a href=\"https://colab.research.google.com/github/warlords94/personal-coding/blob/main/min_and_max.ipynb\" target=\"_parent\"><img src=\"https://colab.research.google.com/assets/colab-badge.svg\" alt=\"Open In Colab\"/></a>"
      ]
    },
    {
      "cell_type": "code",
      "source": [
        "class pair:\n",
        "    def __init__(self):\n",
        "        self.min = 0\n",
        "        self.max = 0\n",
        "  \n",
        "def getMinMax(arr: list, n: int) -> pair:\n",
        "    minmax = pair()\n",
        "  \n",
        "    # If there is only one element then return it as min and max both\n",
        "    if n == 1:\n",
        "        minmax.max = arr[0]\n",
        "        minmax.min = arr[0]\n",
        "        return minmax\n",
        "  \n",
        "    # If there are more than one elements, then initialize min\n",
        "    # and max\n",
        "    if arr[0] > arr[1]:\n",
        "        minmax.max = arr[0]\n",
        "        minmax.min = arr[1]\n",
        "    else:\n",
        "        minmax.max = arr[1]\n",
        "        minmax.min = arr[0]\n",
        "  \n",
        "    for i in range(2, n):\n",
        "        if arr[i] > minmax.max:\n",
        "            minmax.max = arr[i]\n",
        "        elif arr[i] < minmax.min:\n",
        "            minmax.min = arr[i]\n",
        "  \n",
        "    return minmax\n",
        "  \n",
        "# Driver Code\n",
        "if __name__ == \"__main__\":\n",
        "    arr = [1000, 11, 445, 1, 330, 3000]\n",
        "    arr_size = 6\n",
        "    minmax = getMinMax(arr, arr_size)\n",
        "    print(\"Minimum element is\", minmax.min)\n",
        "    print(\"Maximum element is\", minmax.max)"
      ],
      "metadata": {
        "colab": {
          "base_uri": "https://localhost:8080/"
        },
        "id": "PAKlu3OZXBc6",
        "outputId": "adb1e277-6b3d-4bce-beac-a0e11ee208f6"
      },
      "execution_count": 39,
      "outputs": [
        {
          "output_type": "stream",
          "name": "stdout",
          "text": [
            "Minimum element is 1\n",
            "Maximum element is 3000\n"
          ]
        }
      ]
    },
    {
      "cell_type": "code",
      "source": [
        "lass pair:\n",
        "    def __init__(self):\n",
        "        self.min = 0\n",
        "        self.max = 0\n",
        "  \n",
        "def getMinMax(arr: list, n: int) -> pair:\n",
        "    minmax = pair()\n",
        "  \n",
        "    # If there is only one element then return it as min and max bo\n",
        "  \n",
        "# Driver Code\n",
        "if __name__ == \"__main__\":\n",
        "    arr = [1000, 11, 445, 1, 330, 3000]\n",
        "    arr_size = 6\n",
        "    minmax = getMinMax(arr, arr_size)\n",
        "    print(\"Minimum element is\", minmax.min)\n",
        "    print(\"Maximum element is\", minmax.max)"
      ],
      "metadata": {
        "id": "LUAcj6nALNd0"
      },
      "execution_count": null,
      "outputs": []
    }
  ]
}