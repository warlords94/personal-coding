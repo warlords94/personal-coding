{
  "nbformat": 4,
  "nbformat_minor": 0,
  "metadata": {
    "colab": {
      "name": "union.ipynb",
      "provenance": [],
      "authorship_tag": "ABX9TyN0djeuKs759XP1baagHW4U",
      "include_colab_link": true
    },
    "kernelspec": {
      "name": "python3",
      "display_name": "Python 3"
    },
    "language_info": {
      "name": "python"
    }
  },
  "cells": [
    {
      "cell_type": "markdown",
      "metadata": {
        "id": "view-in-github",
        "colab_type": "text"
      },
      "source": [
        "<a href=\"https://colab.research.google.com/github/warlords94/personal-coding/blob/main/union.ipynb\" target=\"_parent\"><img src=\"https://colab.research.google.com/assets/colab-badge.svg\" alt=\"Open In Colab\"/></a>"
      ]
    },
    {
      "cell_type": "code",
      "execution_count": null,
      "metadata": {
        "id": "QorH0RK9lwq0"
      },
      "outputs": [],
      "source": [
        "def doUnion(self,a,n,b,m):\n",
        "        \n",
        "        cnt1 =  n\n",
        "        cnt2 = m\n",
        "        arr = []\n",
        "        \n",
        "        for i in range(n):\n",
        "            arr.append(a[i])\n",
        "        for i  in range(m):\n",
        "            arr.append(b[i])\n",
        "        \n",
        "        arr = set(arr)\n",
        "        \n",
        "        return  len(arr)"
      ]
    }
  ]
}