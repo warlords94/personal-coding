{
  "nbformat": 4,
  "nbformat_minor": 0,
  "metadata": {
    "colab": {
      "name": "single duplicate element.ipynb",
      "provenance": [],
      "authorship_tag": "ABX9TyP1YFlUb1dsTvQh66beiHCO",
      "include_colab_link": true
    },
    "kernelspec": {
      "name": "python3",
      "display_name": "Python 3"
    },
    "language_info": {
      "name": "python"
    }
  },
  "cells": [
    {
      "cell_type": "markdown",
      "metadata": {
        "id": "view-in-github",
        "colab_type": "text"
      },
      "source": [
        "<a href=\"https://colab.research.google.com/github/warlords94/personal-coding/blob/main/single_duplicate_element.ipynb\" target=\"_parent\"><img src=\"https://colab.research.google.com/assets/colab-badge.svg\" alt=\"Open In Colab\"/></a>"
      ]
    },
    {
      "cell_type": "code",
      "execution_count": null,
      "metadata": {
        "id": "N2o5A1-MZb_G"
      },
      "outputs": [],
      "source": [
        "from collections import Counter\n",
        "class Solution:\n",
        "    def findDuplicate(self, nums: List[int]) -> int:\n",
        "        l1 = Counter(nums)\n",
        "        #d = list([item for item in d if d[item]>1])\n",
        "        d = list([item for item in l1 if l1[item]>1])\n",
        "        return d[0]"
      ]
    }
  ]
}