{
  "nbformat": 4,
  "nbformat_minor": 0,
  "metadata": {
    "colab": {
      "name": "sort 0,1,2.ipynb",
      "provenance": [],
      "authorship_tag": "ABX9TyP8vCfxms7e9IjOcbJjteYZ",
      "include_colab_link": true
    },
    "kernelspec": {
      "name": "python3",
      "display_name": "Python 3"
    },
    "language_info": {
      "name": "python"
    }
  },
  "cells": [
    {
      "cell_type": "markdown",
      "metadata": {
        "id": "view-in-github",
        "colab_type": "text"
      },
      "source": [
        "<a href=\"https://colab.research.google.com/github/warlords94/personal-coding/blob/main/sort_0%2C1%2C2.ipynb\" target=\"_parent\"><img src=\"https://colab.research.google.com/assets/colab-badge.svg\" alt=\"Open In Colab\"/></a>"
      ]
    },
    {
      "cell_type": "code",
      "execution_count": 6,
      "metadata": {
        "id": "mb83Yzjz9gbM"
      },
      "outputs": [],
      "source": [
        "def sortnumber(arr):\n",
        "  cnt1 =0\n",
        "  cnt2=0\n",
        "  cnt3=0\n",
        "  tt = []\n",
        "  for i in range(len(arr)):\n",
        "    if (arr[i]==0):\n",
        "      cnt1+=1\n",
        "    if (arr[i]==1):\n",
        "      cnt2+=1\n",
        "    if (arr[i]==2):\n",
        "      cnt3+=1\n",
        "  for i in range((cnt1)):\n",
        "    tt.append(0)\n",
        "  for i in range((cnt2)):\n",
        "    tt.append(1)\n",
        "  for i in range((cnt3)):\n",
        "    tt.append(2)\n",
        "  return tt"
      ]
    },
    {
      "cell_type": "code",
      "source": [
        "arr = [0, 1, 1, 0, 1, 2, 1, 2, 0, 0, 0, 1]\n",
        "sortnumber(arr)"
      ],
      "metadata": {
        "colab": {
          "base_uri": "https://localhost:8080/"
        },
        "id": "EcyuvviaIrr4",
        "outputId": "14ef772b-fb25-4304-b85a-93634e46c6b3"
      },
      "execution_count": 7,
      "outputs": [
        {
          "output_type": "execute_result",
          "data": {
            "text/plain": [
              "[0, 0, 0, 0, 0, 1, 1, 1, 1, 1, 2, 2]"
            ]
          },
          "metadata": {},
          "execution_count": 7
        }
      ]
    },
    {
      "cell_type": "code",
      "source": [
        ""
      ],
      "metadata": {
        "id": "-KMMxBWII8uF"
      },
      "execution_count": null,
      "outputs": []
    }
  ]
}